{
 "cells": [
  {
   "cell_type": "code",
   "execution_count": 26,
   "id": "ed705994-9258-4647-9596-fdcb441ed205",
   "metadata": {},
   "outputs": [],
   "source": [
    "import pandas as pd\n",
    "import numpy as np\n",
    "import networkx as nx\n",
    "import scipy.sparse as sp\n",
    "from scipy.sparse import lil_matrix, csr_matrix"
   ]
  },
  {
   "cell_type": "markdown",
   "id": "3a1f6f7d",
   "metadata": {},
   "source": [
    "Since I don't need `log_index`, `transaction_hash` and `block_number` for my analysis I will not load them."
   ]
  },
  {
   "cell_type": "code",
   "execution_count": 2,
   "id": "5a2f5d54-1dbb-4a71-abc4-56d4da2ff87c",
   "metadata": {},
   "outputs": [],
   "source": [
    "columns = ['token_address', 'from_address', 'to_address', 'value']\n",
    "transactions_df = pd.read_csv('./datasets/ethereum-exchanges/token_transfers_full.csv')[columns]"
   ]
  },
  {
   "cell_type": "markdown",
   "id": "f028d07f",
   "metadata": {},
   "source": [
    "Let’s check how many rows and columns we imported."
   ]
  },
  {
   "cell_type": "code",
   "execution_count": 3,
   "id": "82aaf561-4d18-453b-8761-1372f770e8d0",
   "metadata": {},
   "outputs": [
    {
     "data": {
      "text/plain": [
       "(38901039, 4)"
      ]
     },
     "execution_count": 3,
     "metadata": {},
     "output_type": "execute_result"
    }
   ],
   "source": [
    "transactions_df.shape"
   ]
  },
  {
   "cell_type": "markdown",
   "id": "5c9d07bf",
   "metadata": {},
   "source": [
    "I can also check the names of the columns in the DataFrame."
   ]
  },
  {
   "cell_type": "code",
   "execution_count": 4,
   "id": "e0f50a0a",
   "metadata": {},
   "outputs": [
    {
     "data": {
      "text/plain": [
       "Index(['token_address', 'from_address', 'to_address', 'value'], dtype='object')"
      ]
     },
     "execution_count": 4,
     "metadata": {},
     "output_type": "execute_result"
    }
   ],
   "source": [
    "transactions_df.columns"
   ]
  },
  {
   "cell_type": "markdown",
   "id": "40547a58",
   "metadata": {},
   "source": [
    "Let's have a look at the first 5 rows of my DataFrame"
   ]
  },
  {
   "cell_type": "code",
   "execution_count": 5,
   "id": "9350fee1",
   "metadata": {},
   "outputs": [
    {
     "data": {
      "text/html": [
       "<div>\n",
       "<style scoped>\n",
       "    .dataframe tbody tr th:only-of-type {\n",
       "        vertical-align: middle;\n",
       "    }\n",
       "\n",
       "    .dataframe tbody tr th {\n",
       "        vertical-align: top;\n",
       "    }\n",
       "\n",
       "    .dataframe thead th {\n",
       "        text-align: right;\n",
       "    }\n",
       "</style>\n",
       "<table border=\"1\" class=\"dataframe\">\n",
       "  <thead>\n",
       "    <tr style=\"text-align: right;\">\n",
       "      <th></th>\n",
       "      <th>token_address</th>\n",
       "      <th>from_address</th>\n",
       "      <th>to_address</th>\n",
       "      <th>value</th>\n",
       "    </tr>\n",
       "  </thead>\n",
       "  <tbody>\n",
       "    <tr>\n",
       "      <th>0</th>\n",
       "      <td>0xb64ef51c888972c908cfacf59b47c1afbc0ab8ac</td>\n",
       "      <td>0x78903c52de3923d203881f1b766160cba5a37f59</td>\n",
       "      <td>0xc20d6d7d2e7cde1cabc7f20c553fe93dada380f3</td>\n",
       "      <td>209000000</td>\n",
       "    </tr>\n",
       "    <tr>\n",
       "      <th>1</th>\n",
       "      <td>0xb64ef51c888972c908cfacf59b47c1afbc0ab8ac</td>\n",
       "      <td>0x78903c52de3923d203881f1b766160cba5a37f59</td>\n",
       "      <td>0xc4c49dbf1b4bc997c9a9758c1b1f86d33da4232d</td>\n",
       "      <td>191000000</td>\n",
       "    </tr>\n",
       "    <tr>\n",
       "      <th>2</th>\n",
       "      <td>0xb64ef51c888972c908cfacf59b47c1afbc0ab8ac</td>\n",
       "      <td>0x78903c52de3923d203881f1b766160cba5a37f59</td>\n",
       "      <td>0xab194b0c3e3423ec6cbe44fdf096cb43251d1ccd</td>\n",
       "      <td>181000000</td>\n",
       "    </tr>\n",
       "    <tr>\n",
       "      <th>3</th>\n",
       "      <td>0xb64ef51c888972c908cfacf59b47c1afbc0ab8ac</td>\n",
       "      <td>0x78903c52de3923d203881f1b766160cba5a37f59</td>\n",
       "      <td>0xe29b47e4d0cc68b847226c652f2a5e73d1a94343</td>\n",
       "      <td>204000000</td>\n",
       "    </tr>\n",
       "    <tr>\n",
       "      <th>4</th>\n",
       "      <td>0xb64ef51c888972c908cfacf59b47c1afbc0ab8ac</td>\n",
       "      <td>0x78903c52de3923d203881f1b766160cba5a37f59</td>\n",
       "      <td>0x5d0a1a7c7507142f06c04ffd604ab7b85b442f98</td>\n",
       "      <td>209000000</td>\n",
       "    </tr>\n",
       "  </tbody>\n",
       "</table>\n",
       "</div>"
      ],
      "text/plain": [
       "                                token_address  \\\n",
       "0  0xb64ef51c888972c908cfacf59b47c1afbc0ab8ac   \n",
       "1  0xb64ef51c888972c908cfacf59b47c1afbc0ab8ac   \n",
       "2  0xb64ef51c888972c908cfacf59b47c1afbc0ab8ac   \n",
       "3  0xb64ef51c888972c908cfacf59b47c1afbc0ab8ac   \n",
       "4  0xb64ef51c888972c908cfacf59b47c1afbc0ab8ac   \n",
       "\n",
       "                                 from_address  \\\n",
       "0  0x78903c52de3923d203881f1b766160cba5a37f59   \n",
       "1  0x78903c52de3923d203881f1b766160cba5a37f59   \n",
       "2  0x78903c52de3923d203881f1b766160cba5a37f59   \n",
       "3  0x78903c52de3923d203881f1b766160cba5a37f59   \n",
       "4  0x78903c52de3923d203881f1b766160cba5a37f59   \n",
       "\n",
       "                                   to_address      value  \n",
       "0  0xc20d6d7d2e7cde1cabc7f20c553fe93dada380f3  209000000  \n",
       "1  0xc4c49dbf1b4bc997c9a9758c1b1f86d33da4232d  191000000  \n",
       "2  0xab194b0c3e3423ec6cbe44fdf096cb43251d1ccd  181000000  \n",
       "3  0xe29b47e4d0cc68b847226c652f2a5e73d1a94343  204000000  \n",
       "4  0x5d0a1a7c7507142f06c04ffd604ab7b85b442f98  209000000  "
      ]
     },
     "execution_count": 5,
     "metadata": {},
     "output_type": "execute_result"
    }
   ],
   "source": [
    "transactions_df.head(5)"
   ]
  },
  {
   "cell_type": "markdown",
   "id": "be7dc537",
   "metadata": {},
   "source": [
    "Let's take a look of the Data Types in my DataFrame"
   ]
  },
  {
   "cell_type": "code",
   "execution_count": 6,
   "id": "50786bf4",
   "metadata": {},
   "outputs": [
    {
     "data": {
      "text/plain": [
       "token_address    object\n",
       "from_address     object\n",
       "to_address       object\n",
       "value            object\n",
       "dtype: object"
      ]
     },
     "execution_count": 6,
     "metadata": {},
     "output_type": "execute_result"
    }
   ],
   "source": [
    "transactions_df.dtypes"
   ]
  },
  {
   "cell_type": "markdown",
   "id": "a29bd8e1",
   "metadata": {},
   "source": [
    "Next, let’s see how much memory our DataFrame is using broken down by column."
   ]
  },
  {
   "cell_type": "code",
   "execution_count": 7,
   "id": "df0143ad",
   "metadata": {},
   "outputs": [
    {
     "data": {
      "text/plain": [
       "Index                   132\n",
       "token_address    3851202861\n",
       "from_address     3851202861\n",
       "to_address       3851202861\n",
       "value            2947317077\n",
       "dtype: int64"
      ]
     },
     "execution_count": 7,
     "metadata": {},
     "output_type": "execute_result"
    }
   ],
   "source": [
    "transactions_df.memory_usage(deep=True)"
   ]
  },
  {
   "cell_type": "code",
   "execution_count": 8,
   "id": "dbd7d4cd",
   "metadata": {},
   "outputs": [
    {
     "data": {
      "text/html": [
       "<div>\n",
       "<style scoped>\n",
       "    .dataframe tbody tr th:only-of-type {\n",
       "        vertical-align: middle;\n",
       "    }\n",
       "\n",
       "    .dataframe tbody tr th {\n",
       "        vertical-align: top;\n",
       "    }\n",
       "\n",
       "    .dataframe thead th {\n",
       "        text-align: right;\n",
       "    }\n",
       "</style>\n",
       "<table border=\"1\" class=\"dataframe\">\n",
       "  <thead>\n",
       "    <tr style=\"text-align: right;\">\n",
       "      <th></th>\n",
       "      <th>token_address</th>\n",
       "      <th>from_address</th>\n",
       "      <th>to_address</th>\n",
       "      <th>value</th>\n",
       "    </tr>\n",
       "  </thead>\n",
       "  <tbody>\n",
       "    <tr>\n",
       "      <th>4216296</th>\n",
       "      <td>0xf629cbd94d3791c9250152bd8dfbdf380e2a3b9c</td>\n",
       "      <td>0x31aca4f978c148a8fd200852ea50f9dbfaf60c11</td>\n",
       "      <td>0x8d0035249a9c06d548550c0902b3496201caf7e4</td>\n",
       "      <td>0</td>\n",
       "    </tr>\n",
       "    <tr>\n",
       "      <th>25566660</th>\n",
       "      <td>0x89d24a6b4ccb1b6faa2625fe562bdd9a23260359</td>\n",
       "      <td>0x8c80cbc68d4189b4f1b419c541ffe4caa9502b1e</td>\n",
       "      <td>0x4fb2eaab169720fcef1948eb926d28fb0a850e58</td>\n",
       "      <td>0</td>\n",
       "    </tr>\n",
       "    <tr>\n",
       "      <th>7030814</th>\n",
       "      <td>0x9f8f72aa9304c8b593d555f12ef6589cc3a579a2</td>\n",
       "      <td>0xeeca53c3a421b2e292700ddaef54ef34759ac6fd</td>\n",
       "      <td>0x5239cdc0b3b7b34a65d89ebe6fe9ae075f216260</td>\n",
       "      <td>0</td>\n",
       "    </tr>\n",
       "    <tr>\n",
       "      <th>25566646</th>\n",
       "      <td>0x89d24a6b4ccb1b6faa2625fe562bdd9a23260359</td>\n",
       "      <td>0x8c80cbc68d4189b4f1b419c541ffe4caa9502b1e</td>\n",
       "      <td>0x4fb2eaab169720fcef1948eb926d28fb0a850e58</td>\n",
       "      <td>0</td>\n",
       "    </tr>\n",
       "    <tr>\n",
       "      <th>25566633</th>\n",
       "      <td>0x89d24a6b4ccb1b6faa2625fe562bdd9a23260359</td>\n",
       "      <td>0x8c80cbc68d4189b4f1b419c541ffe4caa9502b1e</td>\n",
       "      <td>0x4fb2eaab169720fcef1948eb926d28fb0a850e58</td>\n",
       "      <td>0</td>\n",
       "    </tr>\n",
       "    <tr>\n",
       "      <th>...</th>\n",
       "      <td>...</td>\n",
       "      <td>...</td>\n",
       "      <td>...</td>\n",
       "      <td>...</td>\n",
       "    </tr>\n",
       "    <tr>\n",
       "      <th>32171764</th>\n",
       "      <td>0x6b175474e89094c44da98b954eedeac495271d0f</td>\n",
       "      <td>0x493c57c4763932315a328269e1adad09653b9081</td>\n",
       "      <td>0x2f3437c6bf500dd985c154ed01ef6507811d68f4</td>\n",
       "      <td>99999999999999999999999</td>\n",
       "    </tr>\n",
       "    <tr>\n",
       "      <th>18776820</th>\n",
       "      <td>0x8e1b448ec7adfc7fa35fc2e885678bd323176e34</td>\n",
       "      <td>0x11790ee0357e84dfdf12d472e5c1ac8f17026b21</td>\n",
       "      <td>0x6cc5f688a315f3dc28a7781717a9a798a59fda7b</td>\n",
       "      <td>999999999999999999999999</td>\n",
       "    </tr>\n",
       "    <tr>\n",
       "      <th>29981496</th>\n",
       "      <td>0x8e870d67f660d95d5be530380d0ec0bd388289e1</td>\n",
       "      <td>0xfecd350addf607b2a6596aedde744e087748bcca</td>\n",
       "      <td>0x6cc5f688a315f3dc28a7781717a9a798a59fda7b</td>\n",
       "      <td>999999999999999999999999</td>\n",
       "    </tr>\n",
       "    <tr>\n",
       "      <th>12935237</th>\n",
       "      <td>0x8e1b448ec7adfc7fa35fc2e885678bd323176e34</td>\n",
       "      <td>0x229e86b4c4292904f78bfb0a4190be36a06565ed</td>\n",
       "      <td>0x6cc5f688a315f3dc28a7781717a9a798a59fda7b</td>\n",
       "      <td>999999999999999999999999</td>\n",
       "    </tr>\n",
       "    <tr>\n",
       "      <th>16478051</th>\n",
       "      <td>0x8e1b448ec7adfc7fa35fc2e885678bd323176e34</td>\n",
       "      <td>0x0c0068a2e622eaa5a7d521f5ced4f18ed8763abc</td>\n",
       "      <td>0x6cc5f688a315f3dc28a7781717a9a798a59fda7b</td>\n",
       "      <td>999999999999999999999999</td>\n",
       "    </tr>\n",
       "  </tbody>\n",
       "</table>\n",
       "<p>38901039 rows × 4 columns</p>\n",
       "</div>"
      ],
      "text/plain": [
       "                                       token_address  \\\n",
       "4216296   0xf629cbd94d3791c9250152bd8dfbdf380e2a3b9c   \n",
       "25566660  0x89d24a6b4ccb1b6faa2625fe562bdd9a23260359   \n",
       "7030814   0x9f8f72aa9304c8b593d555f12ef6589cc3a579a2   \n",
       "25566646  0x89d24a6b4ccb1b6faa2625fe562bdd9a23260359   \n",
       "25566633  0x89d24a6b4ccb1b6faa2625fe562bdd9a23260359   \n",
       "...                                              ...   \n",
       "32171764  0x6b175474e89094c44da98b954eedeac495271d0f   \n",
       "18776820  0x8e1b448ec7adfc7fa35fc2e885678bd323176e34   \n",
       "29981496  0x8e870d67f660d95d5be530380d0ec0bd388289e1   \n",
       "12935237  0x8e1b448ec7adfc7fa35fc2e885678bd323176e34   \n",
       "16478051  0x8e1b448ec7adfc7fa35fc2e885678bd323176e34   \n",
       "\n",
       "                                        from_address  \\\n",
       "4216296   0x31aca4f978c148a8fd200852ea50f9dbfaf60c11   \n",
       "25566660  0x8c80cbc68d4189b4f1b419c541ffe4caa9502b1e   \n",
       "7030814   0xeeca53c3a421b2e292700ddaef54ef34759ac6fd   \n",
       "25566646  0x8c80cbc68d4189b4f1b419c541ffe4caa9502b1e   \n",
       "25566633  0x8c80cbc68d4189b4f1b419c541ffe4caa9502b1e   \n",
       "...                                              ...   \n",
       "32171764  0x493c57c4763932315a328269e1adad09653b9081   \n",
       "18776820  0x11790ee0357e84dfdf12d472e5c1ac8f17026b21   \n",
       "29981496  0xfecd350addf607b2a6596aedde744e087748bcca   \n",
       "12935237  0x229e86b4c4292904f78bfb0a4190be36a06565ed   \n",
       "16478051  0x0c0068a2e622eaa5a7d521f5ced4f18ed8763abc   \n",
       "\n",
       "                                          to_address                     value  \n",
       "4216296   0x8d0035249a9c06d548550c0902b3496201caf7e4                         0  \n",
       "25566660  0x4fb2eaab169720fcef1948eb926d28fb0a850e58                         0  \n",
       "7030814   0x5239cdc0b3b7b34a65d89ebe6fe9ae075f216260                         0  \n",
       "25566646  0x4fb2eaab169720fcef1948eb926d28fb0a850e58                         0  \n",
       "25566633  0x4fb2eaab169720fcef1948eb926d28fb0a850e58                         0  \n",
       "...                                              ...                       ...  \n",
       "32171764  0x2f3437c6bf500dd985c154ed01ef6507811d68f4   99999999999999999999999  \n",
       "18776820  0x6cc5f688a315f3dc28a7781717a9a798a59fda7b  999999999999999999999999  \n",
       "29981496  0x6cc5f688a315f3dc28a7781717a9a798a59fda7b  999999999999999999999999  \n",
       "12935237  0x6cc5f688a315f3dc28a7781717a9a798a59fda7b  999999999999999999999999  \n",
       "16478051  0x6cc5f688a315f3dc28a7781717a9a798a59fda7b  999999999999999999999999  \n",
       "\n",
       "[38901039 rows x 4 columns]"
      ]
     },
     "execution_count": 8,
     "metadata": {},
     "output_type": "execute_result"
    }
   ],
   "source": [
    "transactions_df.sort_values(['value'], ascending=[1])"
   ]
  },
  {
   "cell_type": "code",
   "execution_count": 9,
   "id": "96928e25",
   "metadata": {},
   "outputs": [
    {
     "data": {
      "text/plain": [
       "value\n",
       "0                           106667\n",
       "1                            12858\n",
       "10                            3256\n",
       "100                            824\n",
       "1000                          5055\n",
       "                             ...  \n",
       "9999999999999999999997           4\n",
       "9999999999999999999998           5\n",
       "9999999999999999999999         128\n",
       "99999999999999999999999         57\n",
       "999999999999999999999999         4\n",
       "Length: 13867521, dtype: int64"
      ]
     },
     "execution_count": 9,
     "metadata": {},
     "output_type": "execute_result"
    }
   ],
   "source": [
    "transactions_df.groupby(['value']).size()"
   ]
  },
  {
   "cell_type": "markdown",
   "id": "04b7f195",
   "metadata": {},
   "source": [
    "Since I'm dealing with a huge dataset of almpst 39.000.000 rows I will discard transaction that are less of 10.000.000.000.000 Wei that corresponds to 0.00001 Ether [see the conversion rate](https://etherscan.io/unitconverter). In order to do so I nee my values in 'value' to be all numeric. This will be also needed in order to create my directed weighted graph."
   ]
  },
  {
   "cell_type": "code",
   "execution_count": 11,
   "id": "2940eb16",
   "metadata": {},
   "outputs": [
    {
     "name": "stdout",
     "output_type": "stream",
     "text": [
      "<class 'pandas.core.frame.DataFrame'>\n",
      "RangeIndex: 38901039 entries, 0 to 38901038\n",
      "Data columns (total 4 columns):\n",
      " #   Column         Dtype  \n",
      "---  ------         -----  \n",
      " 0   token_address  object \n",
      " 1   from_address   object \n",
      " 2   to_address     object \n",
      " 3   value          float64\n",
      "dtypes: float64(1), object(3)\n",
      "memory usage: 1.2+ GB\n"
     ]
    }
   ],
   "source": [
    "transactions_df = transactions_df.astype({'value': 'float'})\n",
    "transactions_df.info()"
   ]
  },
  {
   "cell_type": "code",
   "execution_count": 15,
   "id": "5b46d02c",
   "metadata": {},
   "outputs": [
    {
     "name": "stdout",
     "output_type": "stream",
     "text": [
      "<class 'pandas.core.frame.DataFrame'>\n",
      "Index: 35356454 entries, 19 to 38901038\n",
      "Data columns (total 4 columns):\n",
      " #   Column         Dtype  \n",
      "---  ------         -----  \n",
      " 0   token_address  object \n",
      " 1   from_address   object \n",
      " 2   to_address     object \n",
      " 3   value          float64\n",
      "dtypes: float64(1), object(3)\n",
      "memory usage: 1.3+ GB\n"
     ]
    }
   ],
   "source": [
    "transactions_df.drop(transactions_df[transactions_df['value'] <= 10000000000000].index, inplace=True)\n",
    "transactions_df.info()"
   ]
  },
  {
   "cell_type": "code",
   "execution_count": 20,
   "id": "b5a3cf6a",
   "metadata": {},
   "outputs": [
    {
     "name": "stdout",
     "output_type": "stream",
     "text": [
      "Number of unique senders: 2875584\n",
      "Number of unique receivers: 5124159\n"
     ]
    }
   ],
   "source": [
    "# Calculate the number of unique senders and receivers\n",
    "unique_senders = transactions_df['from_address'].nunique()\n",
    "unique_receivers = transactions_df['to_address'].nunique()\n",
    "\n",
    "print(f\"Number of unique senders: {unique_senders}\")\n",
    "print(f\"Number of unique receivers: {unique_receivers}\")\n"
   ]
  },
  {
   "cell_type": "code",
   "execution_count": 27,
   "id": "609dd548",
   "metadata": {},
   "outputs": [
    {
     "name": "stdout",
     "output_type": "stream",
     "text": [
      "CPU times: user 2min 30s, sys: 1.83 s, total: 2min 32s\n",
      "Wall time: 2min 32s\n"
     ]
    }
   ],
   "source": [
    "%%time\n",
    "\n",
    "# Create a list of unique addresses\n",
    "unique_addresses = np.unique(np.concatenate((transactions_df['from_address'], transactions_df['to_address'])))\n",
    "\n",
    "# Create a dictionary for address-to-index mapping\n",
    "address_to_index = {address: index for index, address in enumerate(unique_addresses)}"
   ]
  },
  {
   "cell_type": "code",
   "execution_count": 28,
   "id": "b3420a0c",
   "metadata": {},
   "outputs": [],
   "source": [
    "%%time\n",
    "\n",
    "# Initialize the sparse matrix\n",
    "num_addresses = len(unique_addresses)\n",
    "sparse_matrix = csr_matrix((num_addresses, num_addresses), dtype=np.float64)"
   ]
  },
  {
   "cell_type": "code",
   "execution_count": 29,
   "id": "d70ccd1d",
   "metadata": {},
   "outputs": [
    {
     "ename": "KeyboardInterrupt",
     "evalue": "",
     "output_type": "error",
     "traceback": [
      "\u001b[0;31m---------------------------------------------------------------------------\u001b[0m",
      "\u001b[0;31mKeyboardInterrupt\u001b[0m                         Traceback (most recent call last)",
      "Cell \u001b[0;32mIn[29], line 5\u001b[0m\n\u001b[1;32m      3\u001b[0m from_index \u001b[38;5;241m=\u001b[39m address_to_index[row[\u001b[38;5;124m'\u001b[39m\u001b[38;5;124mfrom_address\u001b[39m\u001b[38;5;124m'\u001b[39m]]\n\u001b[1;32m      4\u001b[0m to_index \u001b[38;5;241m=\u001b[39m address_to_index[row[\u001b[38;5;124m'\u001b[39m\u001b[38;5;124mto_address\u001b[39m\u001b[38;5;124m'\u001b[39m]]\n\u001b[0;32m----> 5\u001b[0m \u001b[43madjacency_matrix\u001b[49m\u001b[43m[\u001b[49m\u001b[43mfrom_index\u001b[49m\u001b[43m,\u001b[49m\u001b[43m \u001b[49m\u001b[43mto_index\u001b[49m\u001b[43m]\u001b[49m \u001b[38;5;241m+\u001b[39m\u001b[38;5;241m=\u001b[39m row[\u001b[38;5;124m'\u001b[39m\u001b[38;5;124mvalue\u001b[39m\u001b[38;5;124m'\u001b[39m]\n",
      "File \u001b[0;32m/usr/local/lib/python3.11/site-packages/scipy/sparse/_index.py:103\u001b[0m, in \u001b[0;36mIndexMixin.__setitem__\u001b[0;34m(self, key, x)\u001b[0m\n\u001b[1;32m    101\u001b[0m     \u001b[38;5;28;01mif\u001b[39;00m x\u001b[38;5;241m.\u001b[39msize \u001b[38;5;241m!=\u001b[39m \u001b[38;5;241m1\u001b[39m:\n\u001b[1;32m    102\u001b[0m         \u001b[38;5;28;01mraise\u001b[39;00m \u001b[38;5;167;01mValueError\u001b[39;00m(\u001b[38;5;124m'\u001b[39m\u001b[38;5;124mTrying to assign a sequence to an item\u001b[39m\u001b[38;5;124m'\u001b[39m)\n\u001b[0;32m--> 103\u001b[0m     \u001b[38;5;28;43mself\u001b[39;49m\u001b[38;5;241;43m.\u001b[39;49m\u001b[43m_set_intXint\u001b[49m\u001b[43m(\u001b[49m\u001b[43mrow\u001b[49m\u001b[43m,\u001b[49m\u001b[43m \u001b[49m\u001b[43mcol\u001b[49m\u001b[43m,\u001b[49m\u001b[43m \u001b[49m\u001b[43mx\u001b[49m\u001b[38;5;241;43m.\u001b[39;49m\u001b[43mflat\u001b[49m\u001b[43m[\u001b[49m\u001b[38;5;241;43m0\u001b[39;49m\u001b[43m]\u001b[49m\u001b[43m)\u001b[49m\n\u001b[1;32m    104\u001b[0m     \u001b[38;5;28;01mreturn\u001b[39;00m\n\u001b[1;32m    106\u001b[0m \u001b[38;5;28;01mif\u001b[39;00m \u001b[38;5;28misinstance\u001b[39m(row, \u001b[38;5;28mslice\u001b[39m):\n",
      "File \u001b[0;32m/usr/local/lib/python3.11/site-packages/scipy/sparse/_compressed.py:819\u001b[0m, in \u001b[0;36m_cs_matrix._set_intXint\u001b[0;34m(self, row, col, x)\u001b[0m\n\u001b[1;32m    817\u001b[0m \u001b[38;5;28;01mdef\u001b[39;00m \u001b[38;5;21m_set_intXint\u001b[39m(\u001b[38;5;28mself\u001b[39m, row, col, x):\n\u001b[1;32m    818\u001b[0m     i, j \u001b[38;5;241m=\u001b[39m \u001b[38;5;28mself\u001b[39m\u001b[38;5;241m.\u001b[39m_swap((row, col))\n\u001b[0;32m--> 819\u001b[0m     \u001b[38;5;28;43mself\u001b[39;49m\u001b[38;5;241;43m.\u001b[39;49m\u001b[43m_set_many\u001b[49m\u001b[43m(\u001b[49m\u001b[43mi\u001b[49m\u001b[43m,\u001b[49m\u001b[43m \u001b[49m\u001b[43mj\u001b[49m\u001b[43m,\u001b[49m\u001b[43m \u001b[49m\u001b[43mx\u001b[49m\u001b[43m)\u001b[49m\n",
      "File \u001b[0;32m/usr/local/lib/python3.11/site-packages/scipy/sparse/_compressed.py:936\u001b[0m, in \u001b[0;36m_cs_matrix._set_many\u001b[0;34m(self, i, j, x)\u001b[0m\n\u001b[1;32m    934\u001b[0m j \u001b[38;5;241m=\u001b[39m j[mask]\n\u001b[1;32m    935\u001b[0m j[j \u001b[38;5;241m<\u001b[39m \u001b[38;5;241m0\u001b[39m] \u001b[38;5;241m+\u001b[39m\u001b[38;5;241m=\u001b[39m N\n\u001b[0;32m--> 936\u001b[0m \u001b[38;5;28;43mself\u001b[39;49m\u001b[38;5;241;43m.\u001b[39;49m\u001b[43m_insert_many\u001b[49m\u001b[43m(\u001b[49m\u001b[43mi\u001b[49m\u001b[43m,\u001b[49m\u001b[43m \u001b[49m\u001b[43mj\u001b[49m\u001b[43m,\u001b[49m\u001b[43m \u001b[49m\u001b[43mx\u001b[49m\u001b[43m[\u001b[49m\u001b[43mmask\u001b[49m\u001b[43m]\u001b[49m\u001b[43m)\u001b[49m\n",
      "File \u001b[0;32m/usr/local/lib/python3.11/site-packages/scipy/sparse/_compressed.py:1026\u001b[0m, in \u001b[0;36m_cs_matrix._insert_many\u001b[0;34m(self, i, j, x)\u001b[0m\n\u001b[1;32m   1023\u001b[0m \u001b[38;5;28;01mif\u001b[39;00m do_sort:\n\u001b[1;32m   1024\u001b[0m     \u001b[38;5;66;03m# TODO: only sort where necessary\u001b[39;00m\n\u001b[1;32m   1025\u001b[0m     \u001b[38;5;28mself\u001b[39m\u001b[38;5;241m.\u001b[39mhas_sorted_indices \u001b[38;5;241m=\u001b[39m \u001b[38;5;28;01mFalse\u001b[39;00m\n\u001b[0;32m-> 1026\u001b[0m     \u001b[38;5;28;43mself\u001b[39;49m\u001b[38;5;241;43m.\u001b[39;49m\u001b[43msort_indices\u001b[49m\u001b[43m(\u001b[49m\u001b[43m)\u001b[49m\n\u001b[1;32m   1028\u001b[0m \u001b[38;5;28mself\u001b[39m\u001b[38;5;241m.\u001b[39mcheck_format(full_check\u001b[38;5;241m=\u001b[39m\u001b[38;5;28;01mFalse\u001b[39;00m)\n",
      "File \u001b[0;32m/usr/local/lib/python3.11/site-packages/scipy/sparse/_compressed.py:1164\u001b[0m, in \u001b[0;36m_cs_matrix.sort_indices\u001b[0;34m(self)\u001b[0m\n\u001b[1;32m   1160\u001b[0m \u001b[38;5;250m\u001b[39m\u001b[38;5;124;03m\"\"\"Sort the indices of this matrix *in place*\u001b[39;00m\n\u001b[1;32m   1161\u001b[0m \u001b[38;5;124;03m\"\"\"\u001b[39;00m\n\u001b[1;32m   1163\u001b[0m \u001b[38;5;28;01mif\u001b[39;00m \u001b[38;5;129;01mnot\u001b[39;00m \u001b[38;5;28mself\u001b[39m\u001b[38;5;241m.\u001b[39mhas_sorted_indices:\n\u001b[0;32m-> 1164\u001b[0m     \u001b[43m_sparsetools\u001b[49m\u001b[38;5;241;43m.\u001b[39;49m\u001b[43mcsr_sort_indices\u001b[49m\u001b[43m(\u001b[49m\u001b[38;5;28;43mlen\u001b[39;49m\u001b[43m(\u001b[49m\u001b[38;5;28;43mself\u001b[39;49m\u001b[38;5;241;43m.\u001b[39;49m\u001b[43mindptr\u001b[49m\u001b[43m)\u001b[49m\u001b[43m \u001b[49m\u001b[38;5;241;43m-\u001b[39;49m\u001b[43m \u001b[49m\u001b[38;5;241;43m1\u001b[39;49m\u001b[43m,\u001b[49m\u001b[43m \u001b[49m\u001b[38;5;28;43mself\u001b[39;49m\u001b[38;5;241;43m.\u001b[39;49m\u001b[43mindptr\u001b[49m\u001b[43m,\u001b[49m\n\u001b[1;32m   1165\u001b[0m \u001b[43m                                  \u001b[49m\u001b[38;5;28;43mself\u001b[39;49m\u001b[38;5;241;43m.\u001b[39;49m\u001b[43mindices\u001b[49m\u001b[43m,\u001b[49m\u001b[43m \u001b[49m\u001b[38;5;28;43mself\u001b[39;49m\u001b[38;5;241;43m.\u001b[39;49m\u001b[43mdata\u001b[49m\u001b[43m)\u001b[49m\n\u001b[1;32m   1166\u001b[0m     \u001b[38;5;28mself\u001b[39m\u001b[38;5;241m.\u001b[39mhas_sorted_indices \u001b[38;5;241m=\u001b[39m \u001b[38;5;28;01mTrue\u001b[39;00m\n",
      "\u001b[0;31mKeyboardInterrupt\u001b[0m: "
     ]
    }
   ],
   "source": [
    "%%time\n",
    "\n",
    "# Populate the sparse matrix with transaction values\n",
    "for _, row in transactions_df.iterrows():\n",
    "    from_index = address_to_index[row['from_address']]\n",
    "    to_index = address_to_index[row['to_address']]\n",
    "    sparse_matrix[from_index, to_index] += row['value']\n",
    "    \n",
    "scipy.sparse.save_npz('sparse_matrix.npz', sparse_matrix)"
   ]
  },
  {
   "cell_type": "code",
   "execution_count": null,
   "id": "a198c503",
   "metadata": {},
   "outputs": [],
   "source": [
    "%%time\n",
    "\n",
    "# Convert the sparse matrix to a NetworkX MultiDiGraph\n",
    "G = nx.MultiDiGraph()\n",
    "\n",
    "# Add nodes and edges from the sparse matrix\n",
    "for from_index, to_index in zip(*sparse_matrix.nonzero()):\n",
    "    from_address = unique_addresses[from_index]\n",
    "    to_address = unique_addresses[to_index]\n",
    "    transaction_value = sparse_matrix[from_index, to_index]\n",
    "\n",
    "    G.add_node(from_address)\n",
    "    G.add_node(to_address)\n",
    "    G.add_edge(from_address, to_address, value=transaction_value)\n",
    "\n",
    "# Print basic graph information\n",
    "print(\"Number of nodes:\", G.number_of_nodes())\n",
    "print(\"Number of edges:\", G.number_of_edges())\n",
    "\n",
    "# Now you have a NetworkX MultiDiGraph (G) representing your transactions."
   ]
  },
  {
   "cell_type": "code",
   "execution_count": null,
   "id": "0f43236b",
   "metadata": {},
   "outputs": [],
   "source": [
    "#Graph Info\n",
    "print(nx.info(G))\n",
    "\n",
    "#Check if graph is Directed - True/False\n",
    "print(nx.is_directed(G))\n",
    "\n",
    "#Count of Nodes\n",
    "print(nx.number_of_nodes(G))\n",
    "\n",
    "#Count of Edges\n",
    "print(nx.number_of_edges(G))"
   ]
  }
 ],
 "metadata": {
  "kernelspec": {
   "display_name": "Python 3 (ipykernel)",
   "language": "python",
   "name": "python3"
  },
  "language_info": {
   "codemirror_mode": {
    "name": "ipython",
    "version": 3
   },
   "file_extension": ".py",
   "mimetype": "text/x-python",
   "name": "python",
   "nbconvert_exporter": "python",
   "pygments_lexer": "ipython3",
   "version": "3.11.4"
  }
 },
 "nbformat": 4,
 "nbformat_minor": 5
}
